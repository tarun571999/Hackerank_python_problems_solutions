{
 "cells": [
  {
   "cell_type": "markdown",
   "metadata": {},
   "source": [
    "# querry dictionary"
   ]
  },
  {
   "cell_type": "markdown",
   "metadata": {},
   "source": [
    "problem statement :\n",
    "input:: enter the number of students that need to be added\n",
    "\n",
    "enter physics chemistry and mathematics marks of each individual candidates\n",
    " output:: the average of pcm is printed for the student name entered\n",
    " "
   ]
  },
  {
   "cell_type": "code",
   "execution_count": 2,
   "metadata": {},
   "outputs": [
    {
     "name": "stdout",
     "output_type": "stream",
     "text": [
      "enter no of students2\n",
      "enter the details of the student name,scores in pcm\n",
      "tharun 99 87 96\n",
      "enter the details of the student name,scores in pcm\n",
      "pavan 90 85 87\n",
      "enter the name to be searched\n",
      "tharun\n",
      "The average is94.00\n"
     ]
    }
   ],
   "source": [
    "num = int(input('enter no of students'))\n",
    "d={}\n",
    "for i in range(num):\n",
    "    line=input('enter the details of the student name,scores in pcm\\n').split()\n",
    "    name,scores = line[0],line[1:]\n",
    "    scores = list(map(float,scores))\n",
    "    d[name]=scores\n",
    "\n",
    "querry=input('enter the name to be searched\\n')\n",
    "if querry in d:\n",
    "    print('The average is{0:.2f}'.format(sum(d[querry])/3))\n",
    "else:\n",
    "    print('student details not available :)')"
   ]
  },
  {
   "cell_type": "code",
   "execution_count": null,
   "metadata": {},
   "outputs": [],
   "source": []
  }
 ],
 "metadata": {
  "kernelspec": {
   "display_name": "Python 3",
   "language": "python",
   "name": "python3"
  },
  "language_info": {
   "codemirror_mode": {
    "name": "ipython",
    "version": 3
   },
   "file_extension": ".py",
   "mimetype": "text/x-python",
   "name": "python",
   "nbconvert_exporter": "python",
   "pygments_lexer": "ipython3",
   "version": "3.7.3"
  }
 },
 "nbformat": 4,
 "nbformat_minor": 2
}

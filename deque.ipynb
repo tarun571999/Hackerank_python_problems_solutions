{
 "cells": [
  {
   "cell_type": "markdown",
   "metadata": {},
   "source": [
    "# DEQUE"
   ]
  },
  {
   "cell_type": "markdown",
   "metadata": {},
   "source": [
    "problem Statement :: collections.deque()\n",
    "A deque is a double-ended queue. It can be used to add or remove elements from both ends.\n",
    "\n",
    "Deques support thread safe, memory efficient appends and pops from either side of the deque with approximately the same  performance in either direction.\n"
   ]
  },
  {
   "cell_type": "markdown",
   "metadata": {},
   "source": [
    "Perform append, pop, popleft and appendleft methods on an empty deque .\n",
    "\n",
    "Input Format\n",
    "\n",
    "The first line contains an integer , the number of operations. \n",
    "The next  lines contains the space separated names of methods and their values.\n",
    "Output Format\n",
    "\n",
    "Print the space separated elements of deque .\n",
    "Sample Input\n",
    "\n",
    "6\n",
    "append 1\n",
    "append 2\n",
    "append 3\n",
    "appendleft 4\n",
    "pop\n",
    "popleft\n",
    "Sample Output\n",
    "1 2\n"
   ]
  },
  {
   "cell_type": "markdown",
   "metadata": {},
   "source": [
    "# #code"
   ]
  },
  {
   "cell_type": "code",
   "execution_count": 2,
   "metadata": {},
   "outputs": [
    {
     "name": "stdout",
     "output_type": "stream",
     "text": [
      "2\n",
      "append 2\n",
      "append 3\n",
      "2 3 "
     ]
    }
   ],
   "source": [
    "from collections import deque\n",
    "d=deque()\n",
    "num = int(input())\n",
    "for i in range(num):\n",
    "    oper = input()\n",
    "    l = oper.split()\n",
    "    if len(l)==2:\n",
    "        \n",
    "        name = l[0]\n",
    "        val = int(l[1])\n",
    "        if name == 'append':\n",
    "            d.append(val)\n",
    "        if name == 'appendleft':\n",
    "            d.appendleft(val)\n",
    "    else:\n",
    "        if oper == 'pop':\n",
    "            d.pop()\n",
    "        if oper == 'popleft':\n",
    "            d.popleft()\n",
    "\n",
    "for j in d:\n",
    "    print(int(j),end=' ')\n"
   ]
  },
  {
   "cell_type": "code",
   "execution_count": null,
   "metadata": {},
   "outputs": [],
   "source": []
  }
 ],
 "metadata": {
  "kernelspec": {
   "display_name": "Python 3",
   "language": "python",
   "name": "python3"
  },
  "language_info": {
   "codemirror_mode": {
    "name": "ipython",
    "version": 3
   },
   "file_extension": ".py",
   "mimetype": "text/x-python",
   "name": "python",
   "nbconvert_exporter": "python",
   "pygments_lexer": "ipython3",
   "version": "3.7.3"
  }
 },
 "nbformat": 4,
 "nbformat_minor": 2
}
